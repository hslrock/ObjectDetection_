{
 "cells": [
  {
   "cell_type": "code",
   "execution_count": 49,
   "metadata": {},
   "outputs": [],
   "source": [
    "import os \n",
    "import glob\n",
    "import pandas as pd\n",
    "\n",
    "import cv2\n",
    "import numpy as np\n",
    "#Img Augment\n",
    "\n",
    "#import imgaug as ia\n",
    "#import imgaug.augmenters as iaa\n",
    "#from imgaug.augmentables.bbs import BoundingBox, BoundingBoxesOnImage\n",
    "\n",
    "from sklearn.model_selection import train_test_split\n",
    "\n",
    "import torch\n",
    "\n",
    "import torch.nn as nn\n",
    "from torch.utils.data import Dataset,DataLoader\n",
    "\n",
    "from torchsummary import summary\n",
    "\n",
    "from torchvision import models\n",
    "from torchvision.utils import make_grid\n",
    "from torchvision import transforms as T\n",
    "from sklearn import preprocessing\n",
    "\n",
    "import matplotlib.pyplot as plt\n",
    "%matplotlib inline\n",
    "import matplotlib.patches as patches\n",
    "\n",
    "\n",
    "from dataload import xml_to_csv,PetData,Sub_region_train,Sub_region\n",
    "\n",
    "from tqdm import tqdm\n",
    "from utills import ssearch,misc\n",
    "from utills.misc import create_label,balance_df"
   ]
  },
  {
   "cell_type": "code",
   "execution_count": 50,
   "metadata": {},
   "outputs": [],
   "source": [
    "##Loading data\n",
    "#root_path=\"D:/Dataset/Pet_Data/\"\n",
    "#root_path=\"D:/Dataset/Pet_Data/\"\n",
    "root_path=\"D:/Dataset/Oxford\"\n",
    "\n",
    "img_path=os.path.join(root_path,\"images\")\n",
    "annotation_path=os.path.join(root_path,\"annotations/xmls\")           \n",
    "annots = glob.glob(annotation_path+\"/*.xml\")\n",
    "\n",
    "seed=0\n",
    "df=xml_to_csv(annots,img_path)\n",
    "df.head()\n",
    "\n",
    "## Make Balanced Dataset (To save time, but don't do this in real research!!)\n",
    "g = df.groupby('target')\n",
    "balanced_df = pd.DataFrame(g.apply(lambda x: x.sample(g.size().min(),random_state=seed).reset_index(drop=True),))  \n",
    "## \n",
    "\n",
    "train, valid = train_test_split(balanced_df, test_size=0.3,random_state=seed)  \n",
    "valid1,valid2 = train_test_split(valid, test_size=0.5,random_state=seed)  \n",
    "\n",
    "BATCH_SIZE = 1\n",
    "train_ds = PetData(train, train=True,raw_return=True)\n",
    "valid_ds_1= PetData(valid1, train=True,raw_return=True)\n",
    "valid_ds_2= PetData(valid2, train=True,raw_return=True)\n",
    "\n",
    "def collate_fn(batch):\n",
    "    return zip(*batch)\n",
    "train_dl = torch.utils.data.DataLoader(train_ds, batch_size=BATCH_SIZE\n",
    "                                       , collate_fn=collate_fn,shuffle=False)\n",
    "valid_dl_1 = torch.utils.data.DataLoader(valid_ds_1, batch_size=BATCH_SIZE\n",
    "                                   \n",
    "                                         , collate_fn=collate_fn)\n",
    "\n",
    "valid_dl_2 = torch.utils.data.DataLoader(valid_ds_2, batch_size=BATCH_SIZE\n",
    "                                       , collate_fn=collate_fn)"
   ]
  },
  {
   "cell_type": "code",
   "execution_count": 51,
   "metadata": {},
   "outputs": [
    {
     "data": {
      "text/plain": [
       "torch.Size([3, 500, 355])"
      ]
     },
     "execution_count": 51,
     "metadata": {},
     "output_type": "execute_result"
    }
   ],
   "source": [
    "valid_ds_1[0][0].shape"
   ]
  },
  {
   "cell_type": "code",
   "execution_count": 52,
   "metadata": {},
   "outputs": [
    {
     "data": {
      "text/plain": [
       "356"
      ]
     },
     "execution_count": 52,
     "metadata": {},
     "output_type": "execute_result"
    }
   ],
   "source": [
    "len(valid_ds_1)"
   ]
  },
  {
   "cell_type": "code",
   "execution_count": 53,
   "metadata": {},
   "outputs": [
    {
     "data": {
      "text/plain": [
       "<All keys matched successfully>"
      ]
     },
     "execution_count": 53,
     "metadata": {},
     "output_type": "execute_result"
    }
   ],
   "source": [
    "import torch.optim as optim\n",
    "#Loading Pretrained Network\n",
    "model = models.alexnet(pretrained=True)\n",
    "model.classifier[6]=nn.Linear(4096,3)\n",
    "model.load_state_dict(torch.load(\"models/epoch_196\"))"
   ]
  },
  {
   "cell_type": "markdown",
   "metadata": {},
   "source": [
    "# Training SVM\n",
    "\n",
    "## Extracting Ground Truth Samples for Each Class\n"
   ]
  },
  {
   "cell_type": "code",
   "execution_count": 57,
   "metadata": {},
   "outputs": [],
   "source": [
    "#for class\n",
    "device=\"cuda\"\n",
    "def get_gt_ft(tgt_class,model,datasets,device):\n",
    "    cnn_transforms=nn.Upsample((224,224))\n",
    "    model.eval()\n",
    "    model.to(device)\n",
    "    gt_fts=[]\n",
    "    for dataset in datasets:\n",
    "        for i,(img,bboxes) in  tqdm(enumerate(dataset)):\n",
    "            for (x1,y1,x2,y2,label) in bboxes:\n",
    "                if label==tgt_class:\n",
    "                    cropped_img=(img[:,int(y1):int(y2),int(x1):int(x2)])\n",
    "                    cropped_img=cnn_transforms(cropped_img.unsqueeze(0))\n",
    "                    cropped_img=cropped_img.to(device)\n",
    "                    \n",
    "                    gt_ft=model.classifier[0:-2](torch.flatten((model.avgpool(model.features(cropped_img))),1))\n",
    "                    gt_fts.append(gt_ft.cpu())\n",
    "                    return gt_ft\n",
    "                    break\n",
    "                else:\n",
    "                    continue\n",
    "    gt_fts=torch.stack(gt_fts)\n",
    "    return gt_fts"
   ]
  },
  {
   "cell_type": "code",
   "execution_count": 59,
   "metadata": {},
   "outputs": [
    {
     "name": "stderr",
     "output_type": "stream",
     "text": [
      "0it [00:00, ?it/s]\n"
     ]
    }
   ],
   "source": [
    "gt_ft_cats=get_gt_ft(0,model,[train_ds,valid_ds_1],\"cuda\")\n"
   ]
  },
  {
   "cell_type": "code",
   "execution_count": 60,
   "metadata": {},
   "outputs": [
    {
     "data": {
      "text/plain": [
       "tensor([[-7.6985,  5.5406, -1.9389,  ..., -0.4719, -9.0661, -1.4091]],\n",
       "       device='cuda:0', grad_fn=<AddmmBackward>)"
      ]
     },
     "execution_count": 60,
     "metadata": {},
     "output_type": "execute_result"
    }
   ],
   "source": [
    "gt_ft_cats"
   ]
  },
  {
   "cell_type": "code",
   "execution_count": 13,
   "metadata": {},
   "outputs": [
    {
     "name": "stderr",
     "output_type": "stream",
     "text": [
      "1663it [00:42, 39.36it/s]\n",
      "356it [00:05, 67.20it/s]\n",
      "1663it [00:24, 66.62it/s]\n",
      "356it [00:06, 55.14it/s]\n"
     ]
    }
   ],
   "source": [
    "gt_ft_cats=get_gt_ft(0,model,[train_ds,valid_ds_1],\"cuda\")\n",
    "torch.save(gt_ft_cats,\"gtf_cats.pt\")\n",
    "\n",
    "gt_ft_dogs=get_gt_ft(1,model,[train_ds,valid_ds_1],\"cuda\")\n",
    "torch.save(gt_ft_dogs,\"gtf_dogs.pt\")"
   ]
  },
  {
   "cell_type": "markdown",
   "metadata": {},
   "source": [
    "## Negative Sampling"
   ]
  },
  {
   "cell_type": "code",
   "execution_count": 7,
   "metadata": {},
   "outputs": [],
   "source": [
    "from metrics import iou\n",
    "def neg_sample(proposed_regions,bboxes):\n",
    "    ''' \n",
    "    if iou below 0.3 it is considered as negative sample for training SVM\n",
    "    '''\n",
    "    \n",
    "    iou_threshold=0.3\n",
    "    for region in proposed_regions:\n",
    "        max_iou=0\n",
    "        region['labels']=-1\n",
    "        region_tensor=torch.tensor((region['rect'][0],region['rect'][1],region['rect'][2],region['rect'][3]))\n",
    "        for bbox in bboxes:\n",
    "            box_tensor=torch.tensor((bbox[0],bbox[1],bbox[2],bbox[3]))\n",
    "            cur_iou=iou.torch_getIOU(region_tensor,box_tensor)\n",
    "            if max_iou<cur_iou:\n",
    "                max_iou=cur_iou\n",
    "        region['iou']=max_iou\n",
    "    regions_df=pd.DataFrame.from_dict(proposed_regions)\n",
    "    regions_df=regions_df[regions_df['iou']<0.3]\n",
    "    return regions_df"
   ]
  },
  {
   "cell_type": "code",
   "execution_count": 8,
   "metadata": {},
   "outputs": [
    {
     "name": "stderr",
     "output_type": "stream",
     "text": [
      "0it [00:08, ?it/s]\n"
     ]
    }
   ],
   "source": [
    "for img_batch_idx,(img_tuple,bbox) in tqdm(enumerate(valid_ds_1)):\n",
    "    acc_regions=None\n",
    "    avg_tloss_pimage=0\n",
    "\n",
    "    regions = ssearch.selective_search(img_tuple.numpy().transpose(1,2,0), scale=50, sigma=0.8, min_size=20)\n",
    "    break"
   ]
  },
  {
   "cell_type": "code",
   "execution_count": 9,
   "metadata": {},
   "outputs": [],
   "source": [
    "regions=neg_sample(regions,bbox)  #Consider IOU<0.3 as negative sapmle\n",
    "    #Create Dataset of proposed regions\n",
    "region_ds=Sub_region(regions,img_tuple,pil=False)\n",
    "region_dl=DataLoader(region_ds,batch_size=128)"
   ]
  },
  {
   "cell_type": "code",
   "execution_count": 10,
   "metadata": {},
   "outputs": [
    {
     "data": {
      "text/plain": [
       "torch.Size([128, 3, 224, 224])"
      ]
     },
     "execution_count": 10,
     "metadata": {},
     "output_type": "execute_result"
    }
   ],
   "source": [
    "next(iter(region_dl))[0].shape"
   ]
  },
  {
   "cell_type": "code",
   "execution_count": 11,
   "metadata": {},
   "outputs": [
    {
     "name": "stderr",
     "output_type": "stream",
     "text": [
      "356it [1:55:47, 19.51s/it]\n"
     ]
    }
   ],
   "source": [
    "\n",
    "\n",
    "device='cuda'\n",
    "\n",
    "model.to(device)\n",
    "model.eval()\n",
    "\n",
    "x_ft=[]\n",
    "y_label=[]    \n",
    "\n",
    "\n",
    "for img_batch_idx,(img_tuple,bbox) in tqdm(enumerate(valid_ds_1)):\n",
    "    acc_regions=None\n",
    "    avg_tloss_pimage=0\n",
    "\n",
    "    regions = ssearch.selective_search(img_tuple.numpy().transpose(1,2,0), scale=50, sigma=0.8, min_size=20)\n",
    "\n",
    "    regions=neg_sample(regions,bbox)  #Consider IOU<0.3 as negative sapmle\n",
    "    #Create Dataset of proposed regions\n",
    "    region_ds=Sub_region(regions,img_tuple,pil=False)\n",
    "    region_dl=DataLoader(region_ds,batch_size=128)\n",
    "    with torch.no_grad():\n",
    "        for batch_idx,(img_tuple,label) in enumerate(region_dl):\n",
    "            img_tuple=img_tuple.to(device)\n",
    "            ft_vec=model.classifier[0:-2](torch.flatten((model.avgpool(model.features(img_tuple))),1))\n",
    "            output=model.classifier[-2:](ft_vec.clone())\n",
    "            outmax=torch.max(output.data,1).indices.cpu()\n",
    "            b = outmax != 0\n",
    "            indices = b.nonzero()\n",
    "            \n",
    "            if (len(indices) !=0):                             #Cache False Positive as Hard Negative Sample\n",
    "                sampled_fn=img_tuple[indices.reshape(-1)]\n",
    "                out=ft_vec[indices.reshape(-1)].cpu().numpy()\n",
    "                outmax=outmax[indices.reshape(-1)].numpy()\n",
    "                x_ft.append(out)\n",
    "                y_label.append(outmax)\n",
    "    \n",
    "\n",
    "x_ft=np.concatenate(x_ft)\n",
    "y_label=np.concatenate(y_label)\n",
    "np.save(\"D:/Dataset/Oxford/hard_negative_cat.npy\",x_ft[np.where(y_label ==1)])\n",
    "np.save(\"D:/Dataset/Oxford/hard_negative_dog.npy\",x_ft[np.where(y_label ==2)])\n"
   ]
  },
  {
   "cell_type": "code",
   "execution_count": 39,
   "metadata": {},
   "outputs": [
    {
     "data": {
      "image/png": "[encoded data removed]",
      "text/plain": [
       "<PIL.Image.Image image mode=RGB size=224x224 at 0x112128C0908>"
      ]
     },
     "execution_count": 39,
     "metadata": {},
     "output_type": "execute_result"
    }
   ],
   "source": [
    "T.ToPILImage()(region_ds[1973][0].cpu()*0.5+0.5)"
   ]
  },
  {
   "cell_type": "markdown",
   "metadata": {},
   "source": [
    "## Train SVM for each_class"
   ]
  },
  {
   "cell_type": "code",
   "execution_count": 12,
   "metadata": {},
   "outputs": [],
   "source": [
    "from sklearn import svm\n",
    "from sklearn.utils import shuffle\n",
    "from sklearn.metrics import classification_report\n",
    "\n",
    "import time"
   ]
  },
  {
   "cell_type": "code",
   "execution_count": 68,
   "metadata": {},
   "outputs": [],
   "source": [
    "cat_pos=torch.load(\"gtf_cats.pt\").squeeze(1).detach().numpy()\n",
    "cat_neg=np.load(\"D:/Dataset/Oxford/hard_negative_cat.npy\")\n",
    "cat_neg=cat_neg[np.random.randint(cat_neg.shape[0], size=1500), :]\n",
    "cat_neg=torch.tensor(cat_neg)\n"
   ]
  },
  {
   "cell_type": "code",
   "execution_count": 69,
   "metadata": {},
   "outputs": [],
   "source": [
    "x_cat=np.concatenate([cat_pos,cat_neg])\n",
    "y_cat=np.concatenate([np.ones(cat_pos.shape[0]),np.zeros(cat_neg.shape[0])])"
   ]
  },
  {
   "cell_type": "code",
   "execution_count": 70,
   "metadata": {},
   "outputs": [
    {
     "data": {
      "text/plain": [
       "array([1., 1., 1., ..., 0., 0., 0.])"
      ]
     },
     "execution_count": 70,
     "metadata": {},
     "output_type": "execute_result"
    }
   ],
   "source": [
    "y_cat"
   ]
  },
  {
   "cell_type": "code",
   "execution_count": 71,
   "metadata": {},
   "outputs": [
    {
     "name": "stderr",
     "output_type": "stream",
     "text": [
      "C:\\Users\\admin\\anaconda3\\lib\\site-packages\\sklearn\\svm\\_base.py:249: ConvergenceWarning: Solver terminated early (max_iter=3000).  Consider pre-processing your data with StandardScaler or MinMaxScaler.\n",
      "  % self.max_iter, ConvergenceWarning)\n"
     ]
    },
    {
     "name": "stdout",
     "output_type": "stream",
     "text": [
      "              precision    recall  f1-score   support\n",
      "\n",
      "         0.0       1.00      1.00      1.00      1500\n",
      "         1.0       1.00      1.00      1.00       997\n",
      "\n",
      "    accuracy                           1.00      2497\n",
      "   macro avg       1.00      1.00      1.00      2497\n",
      "weighted avg       1.00      1.00      1.00      2497\n",
      "\n"
     ]
    }
   ],
   "source": [
    "start=time.time()\n",
    "x_cat,y_cat = shuffle(x_cat,y_cat, random_state=0)\n",
    "clf_cat = svm.SVC(kernel='linear',max_iter=3000,probability=True)\n",
    "clf_cat.fit(x_cat, y_cat)\n",
    "end=time.time()\n",
    "print(classification_report(y_cat, clf_cat.predict(x_cat)))\n"
   ]
  },
  {
   "cell_type": "code",
   "execution_count": 72,
   "metadata": {},
   "outputs": [
    {
     "name": "stdout",
     "output_type": "stream",
     "text": [
      "Elapsed Time 24.881824016571045\n"
     ]
    }
   ],
   "source": [
    "print(f\"Elapsed Time {end-start}\")"
   ]
  },
  {
   "cell_type": "code",
   "execution_count": 74,
   "metadata": {},
   "outputs": [],
   "source": [
    "dog_pos=torch.load(\"gf_dogs.pt\").squeeze(1).detach().numpy()\n",
    "\n",
    "dog_neg=np.load(\"D:/Dataset/Oxford/hard_negative_dog.npy\")\n",
    "dog_neg=dog_neg[np.random.randint(dog_neg.shape[0], size=1500), :]\n",
    "dog_neg=torch.tensor(dog_neg)\n"
   ]
  },
  {
   "cell_type": "code",
   "execution_count": 75,
   "metadata": {},
   "outputs": [],
   "source": [
    "x_dog=np.concatenate([dog_pos,dog_neg])\n",
    "y_dog=np.concatenate([np.ones(dog_pos.shape[0]),np.zeros(dog_neg.shape[0])])"
   ]
  },
  {
   "cell_type": "code",
   "execution_count": 76,
   "metadata": {},
   "outputs": [
    {
     "name": "stderr",
     "output_type": "stream",
     "text": [
      "C:\\Users\\admin\\anaconda3\\lib\\site-packages\\sklearn\\svm\\_base.py:249: ConvergenceWarning: Solver terminated early (max_iter=3000).  Consider pre-processing your data with StandardScaler or MinMaxScaler.\n",
      "  % self.max_iter, ConvergenceWarning)\n"
     ]
    },
    {
     "name": "stdout",
     "output_type": "stream",
     "text": [
      "              precision    recall  f1-score   support\n",
      "\n",
      "         0.0       1.00      1.00      1.00      1500\n",
      "         1.0       1.00      1.00      1.00       833\n",
      "\n",
      "    accuracy                           1.00      2333\n",
      "   macro avg       1.00      1.00      1.00      2333\n",
      "weighted avg       1.00      1.00      1.00      2333\n",
      "\n",
      "Elapsed Time 36.29766392707825\n"
     ]
    }
   ],
   "source": [
    "start=time.time()\n",
    "x_dog,y_dog = shuffle(x_dog,y_dog, random_state=0)\n",
    "clf_dog = svm.SVC(kernel='linear',max_iter=3000,probability=True)\n",
    "\n",
    "clf_dog.fit(x_dog, y_dog)\n",
    "print(classification_report(y_dog, clf_dog.predict(x_dog)))\n",
    "end=time.time()\n",
    "print(f\"Elapsed Time {end-start}\")"
   ]
  },
  {
   "cell_type": "code",
   "execution_count": 77,
   "metadata": {},
   "outputs": [],
   "source": [
    "import pickle\n",
    "\n",
    "filename = 'cat_svm.sv'\n",
    "pickle.dump(clf_cat, open(filename, 'wb'))\n",
    "filename = 'dog_svm.sv'\n",
    "pickle.dump(clf_dog, open(filename, 'wb'))\n",
    "\n"
   ]
  },
  {
   "cell_type": "code",
   "execution_count": 78,
   "metadata": {},
   "outputs": [],
   "source": [
    "clf_cat = pickle.load(open(\"cat_svm.sv\", 'rb'))\n",
    "clf_dog = pickle.load(open(\"dog_svm.sv\", 'rb'))"
   ]
  },
  {
   "cell_type": "markdown",
   "metadata": {},
   "source": [
    "# Evaluating/Testing Model  (We are nearly there!!)"
   ]
  },
  {
   "cell_type": "code",
   "execution_count": null,
   "metadata": {},
   "outputs": [
    {
     "name": "stderr",
     "output_type": "stream",
     "text": [
      "0it [00:00, ?it/s]"
     ]
    }
   ],
   "source": [
    "MAX_BOX=1\n",
    "device=\"cuda\"\n",
    "model.eval()\n",
    "\n",
    "model.to(device)\n",
    "COLOR=['red','blue']\n",
    "LABEL=['cat','dog']\n",
    "nms_thresh=0.5\n",
    "for img_batch_idx,(img_tuple,_) in tqdm(enumerate(valid_ds_2)):\n",
    "    if img_batch_idx!=4:\n",
    "        continue\n",
    "    acc_regions=None\n",
    "    avg_tloss_pimage=0\n",
    "\n",
    "    regions = ssearch.selective_search(img_tuple.numpy().transpose(1,2,0), scale=50, sigma=0.8, min_size=20)\n",
    "    for region in regions:\n",
    "        region['labels']=-1\n",
    "        region_tensor=torch.tensor((region['rect'][0],region['rect'][1],region['rect'][2],region['rect'][3]))\n",
    "    regions=pd.DataFrame.from_dict(regions)\n",
    "    \n",
    "    #Create Dataset of proposed regions\n",
    "    region_ds=Sub_region(regions,img_tuple,pil=False,return_idx=True)\n",
    "    region_dl=DataLoader(region_ds,batch_size=128)    \n",
    "    detected_region_idx=[]\n",
    "    conf_score=[]\n",
    "    labels=[]\n",
    "    with torch.no_grad():\n",
    "        region_idx=0\n",
    "        for batch_idx,(region_tuple,_,ds_index) in enumerate(region_dl):\n",
    "            region_tuple=region_tuple.to(device)\n",
    "            ft_vec=model.classifier[0:-2](torch.flatten((model.avgpool(model.features(region_tuple))),1))\n",
    "            prob_cat=clf_cat.predict_proba(ft_vec.cpu().numpy())[:,1]\n",
    "            prob_dog=clf_dog.predict_proba(ft_vec.cpu().numpy())[:,1]\n",
    "            pred_cat=clf_cat.predict(ft_vec.cpu().numpy())\n",
    "            pred_dog=clf_dog.predict(ft_vec.cpu().numpy())\n",
    "            output=[]\n",
    "            detected=[]\n",
    "            for idx,(a,b,c,d) in enumerate(zip(prob_cat,prob_dog,pred_cat,pred_dog)): \n",
    "                if (c or d):\n",
    "                    max_val=max(a,b)\n",
    "                    label=np.argmax([a,b])\n",
    "                    \n",
    "\n",
    "                    detected_region_idx.append(ds_index[idx].item())        \n",
    "                    conf_score.append(max_val)\n",
    "                    labels.append(label)\n",
    "\n",
    "    det_region=regions.iloc[detected_region_idx].reset_index()\n",
    "    det_region['conf_score']=conf_score\n",
    "    det_region['labels']=labels\n",
    "    \n",
    "    \n",
    "    det_region=det_region.sort_values([\"conf_score\"], ascending = False)\n",
    "    det_region.drop_duplicates(subset =\"rect\",\n",
    "                          keep = False, inplace = True)\n",
    "    det_region = det_region.drop(det_region[det_region.conf_score < 0.8].index)\n",
    "\n",
    "    final_df=None\n",
    "    class_df = det_region.groupby('labels')    \n",
    "    dfs=[class_df.get_group(x) for x in class_df.groups]\n",
    "    \n",
    "\n",
    "    for df in dfs:\n",
    "        idx=0\n",
    "        while True:\n",
    "            if idx==len(df):\n",
    "                break\n",
    "            anc_box=df.iloc[idx].rect\n",
    "            flag=[False]*len(df)\n",
    "            for row_idx_2 in range(idx+1,len(df)):\n",
    "                if iou.torch_getIOU(anc_box,df.iloc[row_idx_2].rect) > nms_thresh:\n",
    "                    flag[row_idx_2]=True\n",
    "            df=df.drop(df.index[np.where(flag)[0]])\n",
    "\n",
    "            idx+=1\n",
    "\n",
    "        if final_df is None:\n",
    "            final_df=df\n",
    "        else:\n",
    "            final_df=final_df.append(df)\n",
    "\n",
    "    fig, ax = plt.subplots(figsize=(5,5))\n",
    "    ax.imshow(img_tuple.numpy().transpose((1,2,0))*0.5+0.5)\n",
    "    final_df=final_df.iloc[0:3]\n",
    "    if final_df is not None:\n",
    "        for data in final_df.iterrows():\n",
    "          #  print(data)\n",
    "            rect=data[1]['rect']\n",
    "            xy=rect[0],rect[1]\n",
    "            width=rect[2]-rect[0]\n",
    "            height=rect[3]-rect[1]\n",
    "\n",
    "            ax.add_patch(\n",
    "             patches.Rectangle(\n",
    "                xy,\n",
    "                width,\n",
    "                height,\n",
    "                edgecolor = COLOR[data[1][\"labels\"]],\n",
    "                fill=False,\n",
    "                linewidth=6,))\n",
    "    plt.show()\n",
    "    break\n",
    "\n",
    "\n",
    "    "
   ]
  },
  {
   "cell_type": "code",
   "execution_count": 87,
   "metadata": {},
   "outputs": [
    {
     "data": {
      "text/plain": [
       "Counter({1: 723})"
      ]
     },
     "execution_count": 87,
     "metadata": {},
     "output_type": "execute_result"
    }
   ],
   "source": [
    "from collections import Counter\n",
    "Counter(df.labels)"
   ]
  },
  {
   "cell_type": "code",
   "execution_count": 89,
   "metadata": {},
   "outputs": [
    {
     "data": {
      "text/plain": [
       "array([0., 1., 1., 1., 1., 1., 1., 1., 1., 1., 1., 1., 1., 1., 1., 1., 1.])"
      ]
     },
     "execution_count": 89,
     "metadata": {},
     "output_type": "execute_result"
    }
   ],
   "source": [
    "pred_cat"
   ]
  },
  {
   "cell_type": "code",
   "execution_count": 91,
   "metadata": {},
   "outputs": [
    {
     "data": {
      "text/plain": [
       "array([0., 0., 0., 0., 0., 0., 0., 0., 0., 0., 0., 0., 0., 0., 0., 0., 0.])"
      ]
     },
     "execution_count": 91,
     "metadata": {},
     "output_type": "execute_result"
    }
   ],
   "source": [
    "pred_dog"
   ]
  },
  {
   "cell_type": "code",
   "execution_count": null,
   "metadata": {},
   "outputs": [],
   "source": []
  },
  {
   "cell_type": "code",
   "execution_count": null,
   "metadata": {},
   "outputs": [],
   "source": [
    "\n",
    "final_df=None\n",
    "class_df = det_region.groupby('labels')    \n",
    "dfs=[class_df.get_group(x) for x in class_df.groups]\n",
    "\n",
    "\n",
    "for df in dfs:\n",
    "    idx=0\n",
    "    while True:\n",
    "        if idx==len(df):\n",
    "            break\n",
    "        anc_box=df.iloc[idx].rect\n",
    "        flag=[False]*len(df)\n",
    "        for row_idx_2 in range(idx+1,len(df)):\n",
    "            if iou.torch_getIOU(anc_box),df.iloc[row_idx_2].rect) > 0.5:\n",
    "                flag[row_idx_2]=True\n",
    "        print(flag)\n",
    "        df=df.drop(df.index[np.where(flag)[0]])\n",
    "    \n",
    "        idx+=1\n",
    "\n",
    "    if final_df is None:\n",
    "        final_df=df\n",
    "    else:\n",
    "        final_df=final_df.append(df)\n"
   ]
  },
  {
   "cell_type": "code",
   "execution_count": null,
   "metadata": {},
   "outputs": [],
   "source": [
    "final_df"
   ]
  },
  {
   "cell_type": "code",
   "execution_count": null,
   "metadata": {},
   "outputs": [],
   "source": []
  },
  {
   "cell_type": "code",
   "execution_count": null,
   "metadata": {},
   "outputs": [],
   "source": []
  },
  {
   "cell_type": "code",
   "execution_count": null,
   "metadata": {},
   "outputs": [],
   "source": []
  }
 ],
 "metadata": {
  "kernelspec": {
   "display_name": "Python 3",
   "language": "python",
   "name": "python3"
  },
  "language_info": {
   "codemirror_mode": {
    "name": "ipython",
    "version": 3
   },
   "file_extension": ".py",
   "mimetype": "text/x-python",
   "name": "python",
   "nbconvert_exporter": "python",
   "pygments_lexer": "ipython3",
   "version": "3.7.6"
  }
 },
 "nbformat": 4,
 "nbformat_minor": 4
}
