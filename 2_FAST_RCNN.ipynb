{
 "cells": [
  {
   "cell_type": "markdown",
   "metadata": {},
   "source": [
    "# Fast R-CNN"
   ]
  },
  {
   "cell_type": "markdown",
   "metadata": {},
   "source": [
    "To make R-CNN faster, Girshick (2015) improved the training procedure by unifying three independent models into one jointly trained framework and increasing shared computation results, named Fast R-CNN. Instead of extracting CNN feature vectors independently for each region proposal, this model aggregates them into one CNN forward pass over the entire image and the region proposals share this feature matrix. Then the same feature matrix is branched out to be used for learning the object classifier and the bounding-box regressor. In conclusion, computation sharing speeds up R-CNN."
   ]
  },
  {
   "cell_type": "code",
   "execution_count": 2,
   "metadata": {},
   "outputs": [],
   "source": [
    "import imgaug as ia\n",
    "import imgaug.augmenters as iaa\n",
    "from imgaug.augmentables.bbs import BoundingBox, BoundingBoxesOnImage"
   ]
  },
  {
   "cell_type": "code",
   "execution_count": 467,
   "metadata": {},
   "outputs": [],
   "source": [
    "import os \n",
    "import glob\n",
    "import pandas as pd\n",
    "from collections import Counter \n",
    "import cv2\n",
    "import numpy as np\n",
    "import random\n",
    "from sklearn.model_selection import train_test_split\n",
    "\n",
    "\n",
    "import torch\n",
    "\n",
    "import torch.nn as nn\n",
    "from torch.utils.data import Dataset,DataLoader\n",
    "\n",
    "from torchsummary import summary\n",
    "\n",
    "\n",
    "from torchvision import models\n",
    "from torchvision import transforms as T\n",
    "\n",
    "import matplotlib.pyplot as plt\n",
    "%matplotlib inline\n",
    "import matplotlib.patches as patches\n",
    "\n",
    "from dataload import xml_to_csv,PetData,Sub_region_train,Sub_region\n",
    "\n",
    "from tqdm import tqdm\n",
    "from utills import ssearch,misc\n",
    "from utills.misc import create_label,balance_df"
   ]
  },
  {
   "cell_type": "code",
   "execution_count": 4,
   "metadata": {},
   "outputs": [],
   "source": [
    "##Loading data\n",
    "#root_path=\"D:/Dataset/Pet_Data/\"\n",
    "root_path=\"D:/Dataset/Pet_Data/\"\n",
    "#root_path=\"D:/Dataset/Oxford\"\n",
    "\n",
    "img_path=os.path.join(root_path,\"images\")\n",
    "annotation_path=os.path.join(root_path,\"annotations/xmls\")           \n",
    "annots = glob.glob(annotation_path+\"/*.xml\")\n",
    "seed=0\n",
    "df=xml_to_csv(annots,img_path)\n",
    "df.head()\n",
    "\n",
    "## Make Balanced Dataset (To save time, but don't do this in real research!!)\n",
    "g = df.groupby('target')\n",
    "balanced_df = pd.DataFrame(g.apply(lambda x: x.sample(g.size().min(),random_state=seed).reset_index(drop=True),))  \n",
    "## \n",
    "train, valid = train_test_split(balanced_df, test_size=0.3,random_state=seed)  \n",
    "\n",
    "BATCH_SIZE = 1\n",
    "\n",
    "\n"
   ]
  },
  {
   "cell_type": "markdown",
   "metadata": {},
   "source": [
    "## Updated Dataset Class (Added Selective Search \"inside\" original class)"
   ]
  },
  {
   "cell_type": "code",
   "execution_count": 631,
   "metadata": {},
   "outputs": [],
   "source": [
    "class PetData(Dataset):\n",
    "    def __init__(self, dataframe,train=False,ssearch=False,samples=16):\n",
    "        self.df=dataframe\n",
    "        self.ssearch=ssearch\n",
    "        self.transform=iaa.Sequential([iaa.Resize((224,224))])\n",
    "        self.torch_transform=T.Compose([T.ToTensor(),\n",
    "                                        T.Normalize([0.5, 0.5, 0.5], [0.5, 0.5, 0.5])])    \n",
    "        self.samples=samples\n",
    "        self.train=train\n",
    "    def __len__(self):\n",
    "        return len(self.df)\n",
    "    \n",
    "    def __getitem__(self, idx):\n",
    "        regions=None\n",
    "        fn,target,xmin,ymin,xmax,ymax=self.df.iloc[idx] #\n",
    "        im=cv2.cvtColor(cv2.imread(fn),cv2.COLOR_BGR2RGB) ##Load Img\n",
    "        \n",
    "        class_label=target  ##Class\n",
    "        bbs=BoundingBoxesOnImage([BoundingBox(xmin,ymin,xmax,ymax,label=class_label)], shape=im.shape) #BBox\n",
    "        image_aug, bbs_aug = self.transform(image=im, bounding_boxes=bbs) #Transformation\n",
    "        region_np=[]\n",
    "        img_shape=image_aug.shape                                \n",
    "        if self.ssearch:                                \n",
    "            regions=ssearch.selective_search(image_aug, scale=50, sigma=0.8, min_size=20)\n",
    "\n",
    "\n",
    "            regions=[dict(t) for t in {tuple(d.items()) for d in regions}]\n",
    "            if self.train:\n",
    "                regions=random.sample(regions, self.samples)\n",
    "            \n",
    "            for dicts in regions:\n",
    "                region_np.append((np.array(dicts['rect'],dtype=np.float)))\n",
    "                \n",
    "            region_np=torch.from_numpy(np.stack(region_np))\n",
    "            region_np=torch.stack([torch.clamp(region_np[:,0]-16,0,224),torch.clamp(region_np[:,1]-16,0,224),\n",
    "                        torch.clamp(region_np[:,2]+16,0,224),torch.clamp(region_np[:,3]+16,0,224)],dim=1)\n",
    "       #     regions=pd.DataFrame.from_dict(regions)\n",
    "        #    regions=regions.drop_duplicates(subset=['rect'])\n",
    "\n",
    "        #    regions=regions.reset_index()\n",
    "           # regions=regions['rect']\n",
    "         #   regions=regions.nu\n",
    "\n",
    "        return self.torch_transform(image_aug), torch.stack([torch.tensor([bb.x1,bb.y1,bb.x2,bb.y2,bb.label]) for bb in bbs_aug]),region_np"
   ]
  },
  {
   "cell_type": "code",
   "execution_count": 632,
   "metadata": {},
   "outputs": [],
   "source": [
    "train_ds = PetData(train, train=True, ssearch=True)\n",
    "valid_ds= PetData(valid, train=True,ssearch=True)\n",
    "\n",
    "BATCH_SIZE=2\n",
    "def collate_fn(batch):\n",
    "    return zip(*batch)\n",
    "train_dl = torch.utils.data.DataLoader(train_ds, batch_size=BATCH_SIZE\n",
    "                                       , collate_fn=collate_fn,shuffle=False)\n",
    "valid_dl = torch.utils.data.DataLoader(valid_ds, batch_size=BATCH_SIZE\n",
    "                                       , collate_fn=collate_fn)"
   ]
  },
  {
   "cell_type": "markdown",
   "metadata": {},
   "source": [
    "## <center>    First, pre-train a convolutional neural network on image classification tasks. </center>\n"
   ]
  },
  {
   "cell_type": "code",
   "execution_count": 633,
   "metadata": {},
   "outputs": [
    {
     "name": "stdout",
     "output_type": "stream",
     "text": [
      "Num of parameters: 138357544\n"
     ]
    }
   ],
   "source": [
    "model = models.vgg16(pretrained=True)\n",
    "def count_parameters(model):\n",
    "    return sum(p.numel() for p in model.parameters() if p.requires_grad)\n",
    "                              \n",
    "print(f'Num of parameters: {count_parameters(model)}')\n"
   ]
  },
  {
   "cell_type": "code",
   "execution_count": 634,
   "metadata": {},
   "outputs": [],
   "source": [
    "single_batch=next(iter(train_dl))"
   ]
  },
  {
   "cell_type": "code",
   "execution_count": 635,
   "metadata": {},
   "outputs": [],
   "source": [
    "img,bbx,regions=single_batch"
   ]
  },
  {
   "cell_type": "code",
   "execution_count": 636,
   "metadata": {},
   "outputs": [
    {
     "data": {
      "text/plain": [
       "16"
      ]
     },
     "execution_count": 636,
     "metadata": {},
     "output_type": "execute_result"
    }
   ],
   "source": [
    "len(regions[0])"
   ]
  },
  {
   "cell_type": "markdown",
   "metadata": {},
   "source": [
    "## Fast RCNN Network Architecture\n"
   ]
  },
  {
   "cell_type": "markdown",
   "metadata": {},
   "source": [
    "![ROI](https://i.imgur.com/yYIDM5h.png)"
   ]
  },
  {
   "cell_type": "code",
   "execution_count": 686,
   "metadata": {},
   "outputs": [],
   "source": [
    "class roi_pooling(nn.Module):\n",
    "    def __init__(self,ft_shape,img_shape,size):\n",
    "        '''\n",
    "        '''\n",
    "        super(roi_pooling, self).__init__()\n",
    "        self.size=size\n",
    "        #Layers\n",
    "        self.img_shape=img_shape\n",
    "        self.ft_shape=ft_shape\n",
    "        self.adaptivepool=nn.AdaptiveMaxPool2d(size[0], size[1])\n",
    "    \n",
    "    def forward(self,ft,rois):\n",
    "        batch_size=len(rois)\n",
    "        out=[]\n",
    "        for i in range(batch_size):\n",
    "            out_img=[]\n",
    "            roi=rois[i]\n",
    "            ft_img=ft[i].unsqueeze(0)\n",
    "\n",
    "            x1=np.floor((roi[:,0]/self.img_shape)*self.ft_shape).type(torch.int32)\n",
    "            y1=np.floor((roi[:,1]/self.img_shape)*self.ft_shape).type(torch.int32)\n",
    "            x2=np.ceil((roi[:,2]/self.img_shape)*self.ft_shape).type(torch.int32)\n",
    "            y2=np.ceil((roi[:,3]/self.img_shape)*self.ft_shape).type(torch.int32)\n",
    "\n",
    "            for j in range(roi.shape[0]):\n",
    "                ft_img_=ft_img[:,:,y1[j]:y2[j], x1[j]:x2[j]]\n",
    "                ft_img_ = self.adaptivepool(ft_img_)[0]\n",
    "                out_img.append(ft_img_)\n",
    "            out_img=torch.cat(out_img, dim=0).unsqueeze(0)  \n",
    "            out.append(out_img)\n",
    "        out = torch.cat(out, dim=0)  \n",
    "        return out\n",
    "    "
   ]
  },
  {
   "cell_type": "code",
   "execution_count": 691,
   "metadata": {},
   "outputs": [],
   "source": [
    "class Fast_RCNN(nn.Module):\n",
    "    def __init__(self,ft_shape=32,img_shape=224,num_class=2):\n",
    "        '''\n",
    "        '''\n",
    "        super(Fast_RCNN, self).__init__()\n",
    "        \n",
    "        self.num_class=num_class\n",
    "        \n",
    "        #Layers\n",
    "        self.pretrained=models.vgg16(pretrained=True)\n",
    "        self.ft_net=self.pretrained.features[0:-1]\n",
    "        self.roi=roi_pooling(ft_shape=14,img_shape=img_shape,size=(7,7))\n",
    "        self.classifier_net=self.pretrained.classifier[0:-1]\n",
    "        self.cls_score = nn.Linear(4096, num_class+1)\n",
    "        self.bbox = nn.Linear(4096, 4*(num_class+1))\n",
    "        \n",
    "                \n",
    "\n",
    "    def forward(self,imgs,regions):\n",
    "        \n",
    "        fts=self.ft_net(imgs)\n",
    "        o_roi=self.roi(fts,regions)\n",
    "        \n",
    "        batch_size=o_roi.shape[0]\n",
    "        regions_num=o_roi.shape[1]\n",
    "        \n",
    "        o_roi=o_roi.detach()\n",
    "        o_roi=o_roi.view(batch_size*regions_num,-1)\n",
    "        ft=self.classifier_net(o_roi)\n",
    "        \n",
    "        cls_score = self.cls_score(ft).view(batch_size,regions_num,-1)\n",
    "        bbox = self.bbox(ft).view(batch_size,regions_num, self.num_class+1, 4)\n",
    "        return cls_score,bbox\n",
    "    "
   ]
  },
  {
   "cell_type": "code",
   "execution_count": 692,
   "metadata": {},
   "outputs": [
    {
     "name": "stdout",
     "output_type": "stream",
     "text": [
      "n\n"
     ]
    }
   ],
   "source": [
    "fastRCNN=Fast_RCNN()\n",
    "fastRCNN.eval()\n",
    "print(\"n\")"
   ]
  },
  {
   "cell_type": "code",
   "execution_count": 693,
   "metadata": {},
   "outputs": [],
   "source": [
    "cls_score,bbox=fastRCNN(img_variable,regions)"
   ]
  },
  {
   "cell_type": "code",
   "execution_count": 694,
   "metadata": {},
   "outputs": [
    {
     "data": {
      "text/plain": [
       "tensor([[[-8.7149e-02,  3.9112e-01,  2.9003e-01],\n",
       "         [-2.7656e-01, -9.3987e-02, -4.3276e-01],\n",
       "         [ 2.4046e-01, -3.2364e-01,  5.7712e-01],\n",
       "         [ 3.9255e-02, -9.7825e-01,  2.0765e-01],\n",
       "         [ 3.7966e-01, -4.8139e-01,  3.1358e-01],\n",
       "         [ 2.6359e-02, -3.6416e-01,  2.1985e-01],\n",
       "         [ 1.1144e-01,  2.5747e-02,  7.2403e-01],\n",
       "         [-3.0191e-01,  7.5240e-01,  1.6367e-01],\n",
       "         [-8.8209e-04, -7.0917e-01,  3.4709e-01],\n",
       "         [ 2.2450e-02,  7.8700e-01,  1.3294e-01],\n",
       "         [ 3.1192e-01, -2.9238e-01,  3.2987e-01],\n",
       "         [-2.2055e-01, -9.7430e-02, -4.1331e-01],\n",
       "         [ 2.6927e-01,  2.9613e-01,  6.4216e-01],\n",
       "         [ 1.2704e-01,  3.6364e-01, -2.4357e-01],\n",
       "         [ 2.4838e-01,  5.9044e-02, -1.0102e-03],\n",
       "         [ 2.5836e-01,  2.0476e-01, -5.6644e-01]],\n",
       "\n",
       "        [[-2.2907e-01, -2.7186e-01, -3.1579e-01],\n",
       "         [ 6.3522e-02,  2.9129e-01, -2.4769e-01],\n",
       "         [ 1.0205e+00,  7.1147e-02, -1.1284e-01],\n",
       "         [ 1.7305e-01,  4.1358e-01, -1.7060e-01],\n",
       "         [ 2.3355e-01,  4.9980e-02, -2.3824e-02],\n",
       "         [ 4.6760e-01, -9.7461e-02, -1.0479e-01],\n",
       "         [-5.6825e-01, -1.2085e-01, -7.2318e-01],\n",
       "         [-3.6159e-01, -3.5295e-01, -1.1581e-01],\n",
       "         [-2.5345e-01,  2.6096e-01, -4.4131e-03],\n",
       "         [ 8.9038e-01, -9.6148e-02, -1.7075e+00],\n",
       "         [ 6.1391e-01,  1.3009e-01, -9.2174e-01],\n",
       "         [ 5.1740e-01, -1.2892e-01, -4.0523e-01],\n",
       "         [-2.6444e-01, -4.4171e-01, -3.9241e-01],\n",
       "         [-5.8591e-02, -1.6475e-01,  6.8173e-02],\n",
       "         [-2.4396e-02,  1.0631e-01,  1.5866e-01],\n",
       "         [ 5.3764e-01,  3.4975e-02, -7.0013e-01]]], grad_fn=<ViewBackward>)"
      ]
     },
     "execution_count": 694,
     "metadata": {},
     "output_type": "execute_result"
    }
   ],
   "source": [
    "cls_score"
   ]
  },
  {
   "cell_type": "code",
   "execution_count": null,
   "metadata": {},
   "outputs": [],
   "source": []
  }
 ],
 "metadata": {
  "kernelspec": {
   "display_name": "Python 3",
   "language": "python",
   "name": "python3"
  },
  "language_info": {
   "codemirror_mode": {
    "name": "ipython",
    "version": 3
   },
   "file_extension": ".py",
   "mimetype": "text/x-python",
   "name": "python",
   "nbconvert_exporter": "python",
   "pygments_lexer": "ipython3",
   "version": "3.7.9"
  }
 },
 "nbformat": 4,
 "nbformat_minor": 4
}
